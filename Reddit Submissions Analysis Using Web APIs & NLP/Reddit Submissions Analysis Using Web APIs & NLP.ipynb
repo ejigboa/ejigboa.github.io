{
 "cells": [
  {
   "cell_type": "markdown",
   "id": "bc426077-0da2-49af-8e9f-e7a27ebaadd9",
   "metadata": {},
   "source": [
    "# **1. Install PRAW**"
   ]
  },
  {
   "cell_type": "code",
   "execution_count": null,
   "id": "6a3e56be-a4bf-43d4-8c57-7f9954b44b46",
   "metadata": {
    "tags": []
   },
   "outputs": [],
   "source": [
    "!pip install praw\n",
    "#import praw"
   ]
  },
  {
   "cell_type": "code",
   "execution_count": 1153,
   "id": "5499f441-7573-4136-9e52-c7b802077429",
   "metadata": {
    "tags": []
   },
   "outputs": [
    {
     "name": "stdout",
     "output_type": "stream",
     "text": [
      "Collecting textblob\n",
      "  Downloading textblob-0.18.0.post0-py3-none-any.whl.metadata (4.5 kB)\n",
      "Requirement already satisfied: nltk>=3.8 in /opt/anaconda3/lib/python3.11/site-packages (from textblob) (3.8.1)\n",
      "Requirement already satisfied: click in /opt/anaconda3/lib/python3.11/site-packages (from nltk>=3.8->textblob) (8.1.7)\n",
      "Requirement already satisfied: joblib in /opt/anaconda3/lib/python3.11/site-packages (from nltk>=3.8->textblob) (1.2.0)\n",
      "Requirement already satisfied: regex>=2021.8.3 in /opt/anaconda3/lib/python3.11/site-packages (from nltk>=3.8->textblob) (2023.10.3)\n",
      "Requirement already satisfied: tqdm in /opt/anaconda3/lib/python3.11/site-packages (from nltk>=3.8->textblob) (4.65.0)\n",
      "Downloading textblob-0.18.0.post0-py3-none-any.whl (626 kB)\n",
      "\u001b[2K   \u001b[90m━━━━━━━━━━━━━━━━━━━━━━━━━━━━━━━━━━━━━━━\u001b[0m \u001b[32m626.3/626.3 kB\u001b[0m \u001b[31m685.7 kB/s\u001b[0m eta \u001b[36m0:00:00\u001b[0m00:01\u001b[0m00:01\u001b[0m\n",
      "\u001b[?25hInstalling collected packages: textblob\n",
      "Successfully installed textblob-0.18.0.post0\n"
     ]
    }
   ],
   "source": [
    "!pip install textblob"
   ]
  },
  {
   "cell_type": "code",
   "execution_count": 1149,
   "id": "4036ec16-52ab-437f-955c-9830c4311476",
   "metadata": {
    "tags": []
   },
   "outputs": [],
   "source": [
    "import praw\n",
    "from dotenv import load_dotenv\n",
    "import os\n",
    "import requests\n",
    "import pandas as pd\n",
    "import nltk\n",
    "from collections import Counter\n",
    "import seaborn as sns\n",
    "from nltk.corpus import stopwords\n",
    "from nltk.stem import WordNetLemmatizer\n",
    "from sklearn.model_selection import train_test_split\n",
    "from sklearn.feature_extraction.text import TfidfVectorizer\n",
    "from sklearn.linear_model import LogisticRegression\n",
    "from sklearn.ensemble import RandomForestClassifier\n",
    "from sklearn.metrics import classification_report, confusion_matrix, accuracy_score\n",
    "from sklearn.decomposition import LatentDirichletAllocation\n",
    "from sklearn.feature_extraction.text import CountVectorizer\n",
    "\n"
   ]
  },
  {
   "cell_type": "code",
   "execution_count": 156,
   "id": "5264b7af-f411-4b0b-8531-127782be904c",
   "metadata": {
    "tags": []
   },
   "outputs": [
    {
     "data": {
      "text/plain": [
       "True"
      ]
     },
     "execution_count": 156,
     "metadata": {},
     "output_type": "execute_result"
    }
   ],
   "source": [
    "load_dotenv()"
   ]
  },
  {
   "cell_type": "code",
   "execution_count": 158,
   "id": "a2719e34-67eb-4ff1-bcf7-49631b4207a4",
   "metadata": {
    "tags": []
   },
   "outputs": [],
   "source": [
    "password = os.getenv('PASSWORD')"
   ]
  },
  {
   "cell_type": "code",
   "execution_count": 160,
   "id": "71e1e34c-0e93-48db-abf7-65adeea24f81",
   "metadata": {
    "tags": []
   },
   "outputs": [
    {
     "data": {
      "text/plain": [
       "'Lhb4MM_XcUdFBfh3eq50w3BZU3H3yw'"
      ]
     },
     "execution_count": 160,
     "metadata": {},
     "output_type": "execute_result"
    }
   ],
   "source": [
    "password"
   ]
  },
  {
   "cell_type": "markdown",
   "id": "78ecd0ed-d601-4b45-b545-639d4a1e7b49",
   "metadata": {},
   "source": [
    "# **2. Create a Reddit App**"
   ]
  },
  {
   "cell_type": "markdown",
   "id": "da49f3cc-1cec-4917-90f4-7b639d7a145a",
   "metadata": {},
   "source": [
    "To access the Reddit API, you'll need to create an application on Reddit and obtain your API credentials. Follow these steps:\n",
    "\n",
    "- Go to the Reddit website (https://www.reddit.com/) and log in to your account. Feel free to create a throwaway account for this project!\n",
    "- Navigate to the Reddit Apps page (https://www.reddit.com/prefs/apps).\n",
    "- Click the \"are you a developer? create an app...\" button in the top left.\n",
    "- Provide a name for your app (e.g., \"PRAW\"), select the app type ('script') , and optionally add a description. Use http://localhost:8080 as your redirect URI.\n",
    "- After submitting the form, you will reach a page that looks like the following image. You'll see your application's details, including the client ID and client secret. Keep these credentials handy for the next step.\n"
   ]
  },
  {
   "cell_type": "markdown",
   "id": "b3997780-adc4-4ee2-91e3-6a296587cdf8",
   "metadata": {},
   "source": [
    "![Praw](https://www.honchosearch.com/hubfs/Imported_Blog_Media/Client-ID-Client-Secret.png)"
   ]
  },
  {
   "cell_type": "markdown",
   "id": "2b71b52e-05db-4a47-8c8c-ec8f4fd9c283",
   "metadata": {},
   "source": [
    "# **3. Initialize PRAW**"
   ]
  },
  {
   "cell_type": "code",
   "execution_count": 162,
   "id": "103d7151-cf2e-47cb-82c2-578faa763888",
   "metadata": {
    "tags": []
   },
   "outputs": [],
   "source": [
    "reddit = praw.Reddit(\n",
    "    client_id='W94W9nT4jRyy839IGnyGOw',\n",
    "    client_secret= 'Lhb4MM_XcUdFBfh3eq50w3BZU3H3yw',\n",
    "    user_agent='nlp_subreddit',\n",
    "    username='Candid-Necessary9487',\n",
    "    password= 'steven@28'   \n",
    ")"
   ]
  },
  {
   "cell_type": "markdown",
   "id": "204db51a-ee1d-4180-839b-67bdecea4fe5",
   "metadata": {},
   "source": [
    "Replace 'YOUR_CLIENT_ID', 'YOUR_CLIENT_SECRET', 'YOUR_USER_AGENT', 'YOUR_REDDIT_USERNAME', and 'YOUR_REDDIT_PASSWORD' with your actual Reddit API credentials."
   ]
  },
  {
   "cell_type": "markdown",
   "id": "95b298a6-1aa9-4690-8447-6f717c24e9cc",
   "metadata": {},
   "source": [
    "Your user agent is an identifier used by reddit to identify the source of requests. You can make it whatever you want, but you'll want to choose something descriptive and unique, and it's recommended that your username is included."
   ]
  },
  {
   "cell_type": "markdown",
   "id": "d9006de6-d5ce-4537-a9c7-ca5bdd4ee630",
   "metadata": {},
   "source": [
    "**I have removed my own credentials from this workbook. We can show you how to hide your credentials before submitting the project! The following code will need your own credentials in order to successfully work.**"
   ]
  },
  {
   "cell_type": "markdown",
   "id": "072ea3ea-ab20-4fe5-8711-dbe220400fa3",
   "metadata": {},
   "source": [
    "# 4. Take a look at the documentation [here](https://praw.readthedocs.io/)!"
   ]
  },
  {
   "cell_type": "code",
   "execution_count": 146,
   "id": "17aa261b-f63a-4437-ac41-242982cb546c",
   "metadata": {
    "tags": []
   },
   "outputs": [],
   "source": [
    "# Check to confirm if my credentials worked\n",
    "subreddit = reddit.subreddit('soccer')\n",
    "\n",
    "# Adjust the limit as needed -- Note that this will grab the 25 most recent posts\n",
    "posts = subreddit.new(limit=4)"
   ]
  },
  {
   "cell_type": "code",
   "execution_count": 148,
   "id": "a0bc7bcb-aea3-477b-b5cc-5bbcb4551a56",
   "metadata": {
    "tags": []
   },
   "outputs": [
    {
     "name": "stdout",
     "output_type": "stream",
     "text": [
      "1dtxnuz\n",
      "1dtxi6w\n",
      "1dtxhvz\n",
      "1dtxebc\n"
     ]
    }
   ],
   "source": [
    "#just testing\n",
    "for i in posts:\n",
    "    print (i)"
   ]
  },
  {
   "cell_type": "markdown",
   "id": "f988fb3a-a9fc-498c-81e3-a6ee0bf2207d",
   "metadata": {},
   "source": [
    "## NOTE\n",
    "- Reddit API Limitations: The Reddit API imposes limitations on the number of posts you can retrieve in a single request. The maximum number of posts per request is typically 100. Therefore, if you set the limit parameter to a value greater than 100, PRAW will make multiple requests behind the scenes to fetch the desired number of posts.\n",
    "- Rate Limiting: The Reddit API also enforces rate limits to prevent abuse and ensure fair usage. The specific rate limits can vary depending on factors such as your Reddit account's age and karma. As a standard user, you're typically allowed to make 60 requests per minute. If you exceed the rate limit, you may receive an error response until the rate limit resets.\n",
    "- TIP: You can use the created_utc attribute of a post to keep track of the timestamp and ensure non-overlapping pulls. The created_utc attribute represents the post's creation time in UTC."
   ]
  },
  {
   "cell_type": "code",
   "execution_count": 166,
   "id": "dbf4fce9-5e5f-43a6-8f31-0a1ae1273d1b",
   "metadata": {},
   "outputs": [],
   "source": [
    "# Here is a function that pulls post from subreddits\n",
    "def get_posts(subreddit, num_posts):\n",
    "    subreddit = reddit.subreddit(subreddit)\n",
    "    posts = []\n",
    "    for post in subreddit.new(limit=num_posts):\n",
    "        posts.append([post.created_utc, post.title, post.selftext, post.subreddit])\n",
    "    return pd.DataFrame(posts, columns=['created_utc', 'title', 'self_text', 'subreddit'])"
   ]
  },
  {
   "cell_type": "code",
   "execution_count": 646,
   "id": "3ffed70b-1396-461e-b360-7c59285dddbb",
   "metadata": {
    "tags": []
   },
   "outputs": [],
   "source": [
    "# First set of dataset\n",
    "sub1 = 'soccer'\n",
    "sub2 = 'tennis'\n",
    "num_posts = 1000\n",
    "\n",
    "soc = get_posts(sub1, num_posts)\n",
    "ten = get_posts(sub2, num_posts)"
   ]
  },
  {
   "cell_type": "code",
   "execution_count": 902,
   "id": "ec809f8d-49e1-414c-a41a-0c124ed3cbdb",
   "metadata": {
    "tags": []
   },
   "outputs": [],
   "source": [
    "# Second set of dataset\n",
    "sub1 = 'soccer'\n",
    "sub2 = 'tennis'\n",
    "num_posts = 1000\n",
    "\n",
    "soc2 = get_posts(sub1, num_posts)\n",
    "ten2 = get_posts(sub2, num_posts)"
   ]
  },
  {
   "cell_type": "code",
   "execution_count": 1024,
   "id": "2eed3a9f-8161-4503-9e4a-23de744a7de4",
   "metadata": {
    "tags": []
   },
   "outputs": [],
   "source": [
    "# Third set of dataset\n",
    "sub1 = 'soccer'\n",
    "sub2 = 'tennis'\n",
    "num_posts = 1000\n",
    "\n",
    "soc3 = get_posts(sub1, num_posts)\n",
    "ten3 = get_posts(sub2, num_posts)"
   ]
  },
  {
   "cell_type": "code",
   "execution_count": 427,
   "id": "86924193-b48a-4d6e-82ef-cb37edd0d4b0",
   "metadata": {
    "tags": []
   },
   "outputs": [],
   "source": [
    "# Fourth set of dataset\n",
    "\n",
    "sub1_2 = 'soccer'\n",
    "sub2_2 = 'tennis'\n",
    "num_posts = 1000\n",
    "\n",
    "df1_2 = get_posts(sub1_2, num_posts)\n",
    "df2_2 = get_posts(sub2_2, num_posts)"
   ]
  },
  {
   "cell_type": "code",
   "execution_count": 1026,
   "id": "9bbfa12e-c546-40cd-9af1-e58ce5385991",
   "metadata": {
    "tags": []
   },
   "outputs": [
    {
     "data": {
      "text/html": [
       "<div>\n",
       "<style scoped>\n",
       "    .dataframe tbody tr th:only-of-type {\n",
       "        vertical-align: middle;\n",
       "    }\n",
       "\n",
       "    .dataframe tbody tr th {\n",
       "        vertical-align: top;\n",
       "    }\n",
       "\n",
       "    .dataframe thead th {\n",
       "        text-align: right;\n",
       "    }\n",
       "</style>\n",
       "<table border=\"1\" class=\"dataframe\">\n",
       "  <thead>\n",
       "    <tr style=\"text-align: right;\">\n",
       "      <th></th>\n",
       "      <th>created_utc</th>\n",
       "      <th>title</th>\n",
       "      <th>self_text</th>\n",
       "      <th>subreddit</th>\n",
       "    </tr>\n",
       "  </thead>\n",
       "  <tbody>\n",
       "    <tr>\n",
       "      <th>0</th>\n",
       "      <td>1.720353e+09</td>\n",
       "      <td>Alex Berenguer signs new deal at Athletic Club...</td>\n",
       "      <td></td>\n",
       "      <td>0</td>\n",
       "    </tr>\n",
       "    <tr>\n",
       "      <th>1</th>\n",
       "      <td>1.720353e+09</td>\n",
       "      <td>Germany have hosted a World Cup or European Ch...</td>\n",
       "      <td></td>\n",
       "      <td>0</td>\n",
       "    </tr>\n",
       "    <tr>\n",
       "      <th>2</th>\n",
       "      <td>1.720352e+09</td>\n",
       "      <td>Toni Kroos after retiring from football: \"So t...</td>\n",
       "      <td></td>\n",
       "      <td>0</td>\n",
       "    </tr>\n",
       "    <tr>\n",
       "      <th>3</th>\n",
       "      <td>1.720352e+09</td>\n",
       "      <td>[Matteo Moretto] Negotiations between Milan an...</td>\n",
       "      <td></td>\n",
       "      <td>0</td>\n",
       "    </tr>\n",
       "    <tr>\n",
       "      <th>4</th>\n",
       "      <td>1.720352e+09</td>\n",
       "      <td>Miguel Almiron is in talks with his representa...</td>\n",
       "      <td></td>\n",
       "      <td>0</td>\n",
       "    </tr>\n",
       "    <tr>\n",
       "      <th>...</th>\n",
       "      <td>...</td>\n",
       "      <td>...</td>\n",
       "      <td>...</td>\n",
       "      <td>...</td>\n",
       "    </tr>\n",
       "    <tr>\n",
       "      <th>7713</th>\n",
       "      <td>1.718385e+09</td>\n",
       "      <td>ATP Stuttgart QF: [5] Musetti def. [3] Bublik ...</td>\n",
       "      <td></td>\n",
       "      <td>1</td>\n",
       "    </tr>\n",
       "    <tr>\n",
       "      <th>7714</th>\n",
       "      <td>1.718384e+09</td>\n",
       "      <td>I have seen enough. Nole is winning Wimbledon.</td>\n",
       "      <td>https://www.instagram.com/reel/C8M_7guIyZ7/?ig...</td>\n",
       "      <td>1</td>\n",
       "    </tr>\n",
       "    <tr>\n",
       "      <th>7715</th>\n",
       "      <td>1.718381e+09</td>\n",
       "      <td>Presenting Karue Sell's lesser known brother T...</td>\n",
       "      <td></td>\n",
       "      <td>1</td>\n",
       "    </tr>\n",
       "    <tr>\n",
       "      <th>7716</th>\n",
       "      <td>1.718379e+09</td>\n",
       "      <td>Stuttgart QF: M. Berrettini d. J. Duckworth 6-...</td>\n",
       "      <td>Berrettini on grass is the real deal.\\n\\nHe wi...</td>\n",
       "      <td>1</td>\n",
       "    </tr>\n",
       "    <tr>\n",
       "      <th>7717</th>\n",
       "      <td>1.718375e+09</td>\n",
       "      <td>The feeling when your dream come true🤩💃 Iga is...</td>\n",
       "      <td></td>\n",
       "      <td>1</td>\n",
       "    </tr>\n",
       "  </tbody>\n",
       "</table>\n",
       "<p>7718 rows × 4 columns</p>\n",
       "</div>"
      ],
      "text/plain": [
       "       created_utc                                              title  \\\n",
       "0     1.720353e+09  Alex Berenguer signs new deal at Athletic Club...   \n",
       "1     1.720353e+09  Germany have hosted a World Cup or European Ch...   \n",
       "2     1.720352e+09  Toni Kroos after retiring from football: \"So t...   \n",
       "3     1.720352e+09  [Matteo Moretto] Negotiations between Milan an...   \n",
       "4     1.720352e+09  Miguel Almiron is in talks with his representa...   \n",
       "...            ...                                                ...   \n",
       "7713  1.718385e+09  ATP Stuttgart QF: [5] Musetti def. [3] Bublik ...   \n",
       "7714  1.718384e+09     I have seen enough. Nole is winning Wimbledon.   \n",
       "7715  1.718381e+09  Presenting Karue Sell's lesser known brother T...   \n",
       "7716  1.718379e+09  Stuttgart QF: M. Berrettini d. J. Duckworth 6-...   \n",
       "7717  1.718375e+09  The feeling when your dream come true🤩💃 Iga is...   \n",
       "\n",
       "                                              self_text  subreddit  \n",
       "0                                                                0  \n",
       "1                                                                0  \n",
       "2                                                                0  \n",
       "3                                                                0  \n",
       "4                                                                0  \n",
       "...                                                 ...        ...  \n",
       "7713                                                             1  \n",
       "7714  https://www.instagram.com/reel/C8M_7guIyZ7/?ig...          1  \n",
       "7715                                                             1  \n",
       "7716  Berrettini on grass is the real deal.\\n\\nHe wi...          1  \n",
       "7717                                                             1  \n",
       "\n",
       "[7718 rows x 4 columns]"
      ]
     },
     "execution_count": 1026,
     "metadata": {},
     "output_type": "execute_result"
    }
   ],
   "source": [
    "# Here is to combine all my dataset into one dataframe\n",
    "\n",
    "soc['subreddit'] = 0\n",
    "ten['subreddit'] = 1\n",
    "soc2['subreddit'] = 0\n",
    "ten2['subreddit'] = 1\n",
    "soc3['subreddit'] = 0\n",
    "ten3['subreddit'] = 1\n",
    "df1_2['subreddit'] = 0\n",
    "df2_2['subreddit'] = 1\n",
    "# Combine dataframes\n",
    "all_post_= pd.concat([soc, soc2, soc3, ten, ten2, ten3, df1_2, df2_2], ignore_index=True)\n",
    "all_post_"
   ]
  },
  {
   "cell_type": "code",
   "execution_count": 1271,
   "id": "c479aa1e-2bfa-4f95-8d8f-a38e27a25609",
   "metadata": {
    "tags": []
   },
   "outputs": [
    {
     "data": {
      "text/plain": [
       "Index(['created_utc', 'title', 'self_text', 'subreddit'], dtype='object')"
      ]
     },
     "execution_count": 1271,
     "metadata": {},
     "output_type": "execute_result"
    }
   ],
   "source": [
    "all_post_.columns"
   ]
  },
  {
   "cell_type": "code",
   "execution_count": 1028,
   "id": "ce2bdd4e-45f2-44b6-9d8f-15abeac40278",
   "metadata": {
    "tags": []
   },
   "outputs": [
    {
     "data": {
      "text/plain": [
       "subreddit\n",
       "1    3903\n",
       "0    3815\n",
       "Name: count, dtype: int64"
      ]
     },
     "execution_count": 1028,
     "metadata": {},
     "output_type": "execute_result"
    }
   ],
   "source": [
    "#Check the number of post extracted fir each subreddit\n",
    "\n",
    "all_post_['subreddit'].value_counts()"
   ]
  },
  {
   "cell_type": "markdown",
   "id": "2eb4c19d-f9d9-4be8-9ca5-5ecbbde48970",
   "metadata": {},
   "source": [
    "Remember, you will need to pull *at least* 1000 posts from each subreddit, not just 25. Like I mentioned above, you can use the created_utc attribute of a post to keep track of the timestamp and ensure non-overlapping pulls. We will leave this work for you all to complete.\n",
    "\n",
    "Once you have at least 1000 posts from each subreddit, you can do some EDA (perhaps maybe the most common words in each subreddit..?) Eventually, you will want to combine your two dataframes together to do modeling."
   ]
  },
  {
   "cell_type": "markdown",
   "id": "8f942833-8fdb-46d1-9182-b672e49434a5",
   "metadata": {},
   "source": [
    "### Note: Rather than working in this template notebook, make a brand new \"scraping\" notebook (or script), with your own comments, so you can use this project in a portfolio!"
   ]
  },
  {
   "cell_type": "code",
   "execution_count": 1030,
   "id": "d3e831fc-b57f-411f-aaf3-6875a5c7b0fc",
   "metadata": {
    "tags": []
   },
   "outputs": [],
   "source": [
    "# Make a copy of my main DataFrame\n",
    "post = all_post_.copy()"
   ]
  },
  {
   "cell_type": "code",
   "execution_count": 1032,
   "id": "e0f8f6c9-b897-4954-a9cd-329d7a23c4e4",
   "metadata": {
    "tags": []
   },
   "outputs": [
    {
     "data": {
      "text/plain": [
       "subreddit\n",
       "1    3903\n",
       "0    3815\n",
       "Name: count, dtype: int64"
      ]
     },
     "execution_count": 1032,
     "metadata": {},
     "output_type": "execute_result"
    }
   ],
   "source": [
    "post['subreddit'].value_counts()"
   ]
  },
  {
   "cell_type": "code",
   "execution_count": 1086,
   "id": "b7f6bb6d-fd7c-424a-a820-adb06caa09c5",
   "metadata": {
    "tags": []
   },
   "outputs": [],
   "source": []
  },
  {
   "cell_type": "code",
   "execution_count": 1034,
   "id": "623fb607-5dc9-438c-810c-759163a8d6dd",
   "metadata": {
    "tags": []
   },
   "outputs": [
    {
     "data": {
      "text/html": [
       "<div>\n",
       "<style scoped>\n",
       "    .dataframe tbody tr th:only-of-type {\n",
       "        vertical-align: middle;\n",
       "    }\n",
       "\n",
       "    .dataframe tbody tr th {\n",
       "        vertical-align: top;\n",
       "    }\n",
       "\n",
       "    .dataframe thead th {\n",
       "        text-align: right;\n",
       "    }\n",
       "</style>\n",
       "<table border=\"1\" class=\"dataframe\">\n",
       "  <thead>\n",
       "    <tr style=\"text-align: right;\">\n",
       "      <th></th>\n",
       "      <th>created_utc</th>\n",
       "      <th>title</th>\n",
       "      <th>self_text</th>\n",
       "      <th>subreddit</th>\n",
       "      <th>text</th>\n",
       "    </tr>\n",
       "  </thead>\n",
       "  <tbody>\n",
       "    <tr>\n",
       "      <th>0</th>\n",
       "      <td>1.720353e+09</td>\n",
       "      <td>Alex Berenguer signs new deal at Athletic Club...</td>\n",
       "      <td></td>\n",
       "      <td>0</td>\n",
       "      <td>Alex Berenguer signs new deal at Athletic Club...</td>\n",
       "    </tr>\n",
       "    <tr>\n",
       "      <th>1</th>\n",
       "      <td>1.720353e+09</td>\n",
       "      <td>Germany have hosted a World Cup or European Ch...</td>\n",
       "      <td></td>\n",
       "      <td>0</td>\n",
       "      <td>Germany have hosted a World Cup or European Ch...</td>\n",
       "    </tr>\n",
       "    <tr>\n",
       "      <th>2</th>\n",
       "      <td>1.720352e+09</td>\n",
       "      <td>Toni Kroos after retiring from football: \"So t...</td>\n",
       "      <td></td>\n",
       "      <td>0</td>\n",
       "      <td>Toni Kroos after retiring from football: \"So t...</td>\n",
       "    </tr>\n",
       "    <tr>\n",
       "      <th>3</th>\n",
       "      <td>1.720352e+09</td>\n",
       "      <td>[Matteo Moretto] Negotiations between Milan an...</td>\n",
       "      <td></td>\n",
       "      <td>0</td>\n",
       "      <td>[Matteo Moretto] Negotiations between Milan an...</td>\n",
       "    </tr>\n",
       "    <tr>\n",
       "      <th>4</th>\n",
       "      <td>1.720352e+09</td>\n",
       "      <td>Miguel Almiron is in talks with his representa...</td>\n",
       "      <td></td>\n",
       "      <td>0</td>\n",
       "      <td>Miguel Almiron is in talks with his representa...</td>\n",
       "    </tr>\n",
       "    <tr>\n",
       "      <th>...</th>\n",
       "      <td>...</td>\n",
       "      <td>...</td>\n",
       "      <td>...</td>\n",
       "      <td>...</td>\n",
       "      <td>...</td>\n",
       "    </tr>\n",
       "    <tr>\n",
       "      <th>7713</th>\n",
       "      <td>1.718385e+09</td>\n",
       "      <td>ATP Stuttgart QF: [5] Musetti def. [3] Bublik ...</td>\n",
       "      <td></td>\n",
       "      <td>1</td>\n",
       "      <td>ATP Stuttgart QF: [5] Musetti def. [3] Bublik ...</td>\n",
       "    </tr>\n",
       "    <tr>\n",
       "      <th>7714</th>\n",
       "      <td>1.718384e+09</td>\n",
       "      <td>I have seen enough. Nole is winning Wimbledon.</td>\n",
       "      <td>https://www.instagram.com/reel/C8M_7guIyZ7/?ig...</td>\n",
       "      <td>1</td>\n",
       "      <td>I have seen enough. Nole is winning Wimbledon....</td>\n",
       "    </tr>\n",
       "    <tr>\n",
       "      <th>7715</th>\n",
       "      <td>1.718381e+09</td>\n",
       "      <td>Presenting Karue Sell's lesser known brother T...</td>\n",
       "      <td></td>\n",
       "      <td>1</td>\n",
       "      <td>Presenting Karue Sell's lesser known brother T...</td>\n",
       "    </tr>\n",
       "    <tr>\n",
       "      <th>7716</th>\n",
       "      <td>1.718379e+09</td>\n",
       "      <td>Stuttgart QF: M. Berrettini d. J. Duckworth 6-...</td>\n",
       "      <td>Berrettini on grass is the real deal.\\n\\nHe wi...</td>\n",
       "      <td>1</td>\n",
       "      <td>Stuttgart QF: M. Berrettini d. J. Duckworth 6-...</td>\n",
       "    </tr>\n",
       "    <tr>\n",
       "      <th>7717</th>\n",
       "      <td>1.718375e+09</td>\n",
       "      <td>The feeling when your dream come true🤩💃 Iga is...</td>\n",
       "      <td></td>\n",
       "      <td>1</td>\n",
       "      <td>The feeling when your dream come true🤩💃 Iga is...</td>\n",
       "    </tr>\n",
       "  </tbody>\n",
       "</table>\n",
       "<p>7718 rows × 5 columns</p>\n",
       "</div>"
      ],
      "text/plain": [
       "       created_utc                                              title  \\\n",
       "0     1.720353e+09  Alex Berenguer signs new deal at Athletic Club...   \n",
       "1     1.720353e+09  Germany have hosted a World Cup or European Ch...   \n",
       "2     1.720352e+09  Toni Kroos after retiring from football: \"So t...   \n",
       "3     1.720352e+09  [Matteo Moretto] Negotiations between Milan an...   \n",
       "4     1.720352e+09  Miguel Almiron is in talks with his representa...   \n",
       "...            ...                                                ...   \n",
       "7713  1.718385e+09  ATP Stuttgart QF: [5] Musetti def. [3] Bublik ...   \n",
       "7714  1.718384e+09     I have seen enough. Nole is winning Wimbledon.   \n",
       "7715  1.718381e+09  Presenting Karue Sell's lesser known brother T...   \n",
       "7716  1.718379e+09  Stuttgart QF: M. Berrettini d. J. Duckworth 6-...   \n",
       "7717  1.718375e+09  The feeling when your dream come true🤩💃 Iga is...   \n",
       "\n",
       "                                              self_text  subreddit  \\\n",
       "0                                                                0   \n",
       "1                                                                0   \n",
       "2                                                                0   \n",
       "3                                                                0   \n",
       "4                                                                0   \n",
       "...                                                 ...        ...   \n",
       "7713                                                             1   \n",
       "7714  https://www.instagram.com/reel/C8M_7guIyZ7/?ig...          1   \n",
       "7715                                                             1   \n",
       "7716  Berrettini on grass is the real deal.\\n\\nHe wi...          1   \n",
       "7717                                                             1   \n",
       "\n",
       "                                                   text  \n",
       "0     Alex Berenguer signs new deal at Athletic Club...  \n",
       "1     Germany have hosted a World Cup or European Ch...  \n",
       "2     Toni Kroos after retiring from football: \"So t...  \n",
       "3     [Matteo Moretto] Negotiations between Milan an...  \n",
       "4     Miguel Almiron is in talks with his representa...  \n",
       "...                                                 ...  \n",
       "7713  ATP Stuttgart QF: [5] Musetti def. [3] Bublik ...  \n",
       "7714  I have seen enough. Nole is winning Wimbledon....  \n",
       "7715  Presenting Karue Sell's lesser known brother T...  \n",
       "7716  Stuttgart QF: M. Berrettini d. J. Duckworth 6-...  \n",
       "7717  The feeling when your dream come true🤩💃 Iga is...  \n",
       "\n",
       "[7718 rows x 5 columns]"
      ]
     },
     "execution_count": 1034,
     "metadata": {},
     "output_type": "execute_result"
    }
   ],
   "source": [
    "# Combine title and body into one column 'text'\n",
    "post['text'] = post['title'] + ' ' + post['self_text']\n",
    "post"
   ]
  },
  {
   "cell_type": "code",
   "execution_count": 1038,
   "id": "4b60067c-4450-4d50-bc8c-9f1077cb9bb9",
   "metadata": {
    "tags": []
   },
   "outputs": [
    {
     "data": {
      "text/html": [
       "<div>\n",
       "<style scoped>\n",
       "    .dataframe tbody tr th:only-of-type {\n",
       "        vertical-align: middle;\n",
       "    }\n",
       "\n",
       "    .dataframe tbody tr th {\n",
       "        vertical-align: top;\n",
       "    }\n",
       "\n",
       "    .dataframe thead th {\n",
       "        text-align: right;\n",
       "    }\n",
       "</style>\n",
       "<table border=\"1\" class=\"dataframe\">\n",
       "  <thead>\n",
       "    <tr style=\"text-align: right;\">\n",
       "      <th></th>\n",
       "      <th>text</th>\n",
       "      <th>subreddit</th>\n",
       "    </tr>\n",
       "  </thead>\n",
       "  <tbody>\n",
       "    <tr>\n",
       "      <th>0</th>\n",
       "      <td>Alex Berenguer signs new deal at Athletic Club...</td>\n",
       "      <td>0</td>\n",
       "    </tr>\n",
       "    <tr>\n",
       "      <th>1</th>\n",
       "      <td>Germany have hosted a World Cup or European Ch...</td>\n",
       "      <td>0</td>\n",
       "    </tr>\n",
       "    <tr>\n",
       "      <th>2</th>\n",
       "      <td>Toni Kroos after retiring from football: \"So t...</td>\n",
       "      <td>0</td>\n",
       "    </tr>\n",
       "    <tr>\n",
       "      <th>3</th>\n",
       "      <td>[Matteo Moretto] Negotiations between Milan an...</td>\n",
       "      <td>0</td>\n",
       "    </tr>\n",
       "    <tr>\n",
       "      <th>4</th>\n",
       "      <td>Miguel Almiron is in talks with his representa...</td>\n",
       "      <td>0</td>\n",
       "    </tr>\n",
       "    <tr>\n",
       "      <th>...</th>\n",
       "      <td>...</td>\n",
       "      <td>...</td>\n",
       "    </tr>\n",
       "    <tr>\n",
       "      <th>7713</th>\n",
       "      <td>ATP Stuttgart QF: [5] Musetti def. [3] Bublik ...</td>\n",
       "      <td>1</td>\n",
       "    </tr>\n",
       "    <tr>\n",
       "      <th>7714</th>\n",
       "      <td>I have seen enough. Nole is winning Wimbledon....</td>\n",
       "      <td>1</td>\n",
       "    </tr>\n",
       "    <tr>\n",
       "      <th>7715</th>\n",
       "      <td>Presenting Karue Sell's lesser known brother T...</td>\n",
       "      <td>1</td>\n",
       "    </tr>\n",
       "    <tr>\n",
       "      <th>7716</th>\n",
       "      <td>Stuttgart QF: M. Berrettini d. J. Duckworth 6-...</td>\n",
       "      <td>1</td>\n",
       "    </tr>\n",
       "    <tr>\n",
       "      <th>7717</th>\n",
       "      <td>The feeling when your dream come true🤩💃 Iga is...</td>\n",
       "      <td>1</td>\n",
       "    </tr>\n",
       "  </tbody>\n",
       "</table>\n",
       "<p>7718 rows × 2 columns</p>\n",
       "</div>"
      ],
      "text/plain": [
       "                                                   text  subreddit\n",
       "0     Alex Berenguer signs new deal at Athletic Club...          0\n",
       "1     Germany have hosted a World Cup or European Ch...          0\n",
       "2     Toni Kroos after retiring from football: \"So t...          0\n",
       "3     [Matteo Moretto] Negotiations between Milan an...          0\n",
       "4     Miguel Almiron is in talks with his representa...          0\n",
       "...                                                 ...        ...\n",
       "7713  ATP Stuttgart QF: [5] Musetti def. [3] Bublik ...          1\n",
       "7714  I have seen enough. Nole is winning Wimbledon....          1\n",
       "7715  Presenting Karue Sell's lesser known brother T...          1\n",
       "7716  Stuttgart QF: M. Berrettini d. J. Duckworth 6-...          1\n",
       "7717  The feeling when your dream come true🤩💃 Iga is...          1\n",
       "\n",
       "[7718 rows x 2 columns]"
      ]
     },
     "execution_count": 1038,
     "metadata": {},
     "output_type": "execute_result"
    }
   ],
   "source": [
    "post = post[['text', 'subreddit']]\n",
    "post"
   ]
  },
  {
   "cell_type": "code",
   "execution_count": 1040,
   "id": "213fb212-ef8f-4163-823f-45fe12338d95",
   "metadata": {
    "tags": []
   },
   "outputs": [
    {
     "data": {
      "text/html": [
       "<div>\n",
       "<style scoped>\n",
       "    .dataframe tbody tr th:only-of-type {\n",
       "        vertical-align: middle;\n",
       "    }\n",
       "\n",
       "    .dataframe tbody tr th {\n",
       "        vertical-align: top;\n",
       "    }\n",
       "\n",
       "    .dataframe thead th {\n",
       "        text-align: right;\n",
       "    }\n",
       "</style>\n",
       "<table border=\"1\" class=\"dataframe\">\n",
       "  <thead>\n",
       "    <tr style=\"text-align: right;\">\n",
       "      <th></th>\n",
       "      <th>text</th>\n",
       "      <th>subreddit</th>\n",
       "    </tr>\n",
       "  </thead>\n",
       "  <tbody>\n",
       "    <tr>\n",
       "      <th>0</th>\n",
       "      <td>Alex Berenguer signs new deal at Athletic Club...</td>\n",
       "      <td>0</td>\n",
       "    </tr>\n",
       "    <tr>\n",
       "      <th>1</th>\n",
       "      <td>Germany have hosted a World Cup or European Ch...</td>\n",
       "      <td>0</td>\n",
       "    </tr>\n",
       "    <tr>\n",
       "      <th>2</th>\n",
       "      <td>Toni Kroos after retiring from football: \"So t...</td>\n",
       "      <td>0</td>\n",
       "    </tr>\n",
       "    <tr>\n",
       "      <th>3</th>\n",
       "      <td>[Matteo Moretto] Negotiations between Milan an...</td>\n",
       "      <td>0</td>\n",
       "    </tr>\n",
       "    <tr>\n",
       "      <th>4</th>\n",
       "      <td>Miguel Almiron is in talks with his representa...</td>\n",
       "      <td>0</td>\n",
       "    </tr>\n",
       "  </tbody>\n",
       "</table>\n",
       "</div>"
      ],
      "text/plain": [
       "                                                text  subreddit\n",
       "0  Alex Berenguer signs new deal at Athletic Club...          0\n",
       "1  Germany have hosted a World Cup or European Ch...          0\n",
       "2  Toni Kroos after retiring from football: \"So t...          0\n",
       "3  [Matteo Moretto] Negotiations between Milan an...          0\n",
       "4  Miguel Almiron is in talks with his representa...          0"
      ]
     },
     "execution_count": 1040,
     "metadata": {},
     "output_type": "execute_result"
    }
   ],
   "source": [
    "# Remove duplicates\n",
    "\n",
    "post = post.drop_duplicates(subset='text')\n",
    "post.head()"
   ]
  },
  {
   "cell_type": "code",
   "execution_count": 1042,
   "id": "edd790bb-5f55-4395-8041-b45063c077ce",
   "metadata": {
    "tags": []
   },
   "outputs": [
    {
     "name": "stderr",
     "output_type": "stream",
     "text": [
      "/var/folders/xl/y_djts9n7858xsff1znygpsm0000gn/T/ipykernel_79579/3072471542.py:2: SettingWithCopyWarning: \n",
      "A value is trying to be set on a copy of a slice from a DataFrame\n",
      "\n",
      "See the caveats in the documentation: https://pandas.pydata.org/pandas-docs/stable/user_guide/indexing.html#returning-a-view-versus-a-copy\n",
      "  post.dropna(inplace=True)\n"
     ]
    }
   ],
   "source": [
    "# Drop missing values\n",
    "post.dropna(inplace=True)"
   ]
  },
  {
   "cell_type": "code",
   "execution_count": 1046,
   "id": "c1386c68-e9b1-4a78-a597-1796024603a0",
   "metadata": {
    "tags": []
   },
   "outputs": [],
   "source": [
    "# Initialize stopwords and lemmatizer\n",
    "stop_words = set(stopwords.words('english'))\n",
    "lemmatizer = WordNetLemmatizer()"
   ]
  },
  {
   "cell_type": "code",
   "execution_count": 1048,
   "id": "c0770f88-c38e-41c9-ac43-096e0afc2b46",
   "metadata": {
    "tags": []
   },
   "outputs": [],
   "source": [
    "# Text preprocessing function\n",
    "def preprocess_text(text):\n",
    "    tokens = nltk.word_tokenize(text.lower())\n",
    "    tokens = [lemmatizer.lemmatize(word) for word in tokens if word.isalpha() and word not in stop_words]\n",
    "    return ' '.join(tokens)"
   ]
  },
  {
   "cell_type": "code",
   "execution_count": 1050,
   "id": "8737317b-de0d-43ab-9c8c-d2acd6249942",
   "metadata": {
    "tags": []
   },
   "outputs": [
    {
     "name": "stderr",
     "output_type": "stream",
     "text": [
      "/var/folders/xl/y_djts9n7858xsff1znygpsm0000gn/T/ipykernel_79579/2252455630.py:2: SettingWithCopyWarning: \n",
      "A value is trying to be set on a copy of a slice from a DataFrame.\n",
      "Try using .loc[row_indexer,col_indexer] = value instead\n",
      "\n",
      "See the caveats in the documentation: https://pandas.pydata.org/pandas-docs/stable/user_guide/indexing.html#returning-a-view-versus-a-copy\n",
      "  post['text'] = post['text'].apply(preprocess_text)\n"
     ]
    }
   ],
   "source": [
    "# Apply the preprocessing function.\n",
    "post['text'] = post['text'].apply(preprocess_text)"
   ]
  },
  {
   "cell_type": "code",
   "execution_count": 1060,
   "id": "112fcb97-f470-4263-94f6-8b3644fd76e1",
   "metadata": {
    "tags": []
   },
   "outputs": [],
   "source": [
    "# Assign post from each subreddit\n",
    "soccer = post[post['subreddit'] == 0]['text']\n",
    "tennis = post[post['subreddit'] == 1]['text']"
   ]
  },
  {
   "cell_type": "code",
   "execution_count": 1062,
   "id": "2b172435-a062-4b69-a486-27c84afa9e33",
   "metadata": {
    "tags": []
   },
   "outputs": [
    {
     "data": {
      "text/plain": [
       "0       alex berenguer sign new deal athletic club val...\n",
       "1       germany hosted world cup european championship...\n",
       "2       toni kroos retiring football take break least ...\n",
       "3       matteo moretto negotiation milan tottenham ent...\n",
       "4       miguel almiron talk representative newcastle f...\n",
       "                              ...                        \n",
       "6736    fc bayern josip stanišić extended contract fc ...\n",
       "6737    ac milan ac milan announces formally received ...\n",
       "6738                    goal scored euro group stage jump\n",
       "6739    huge sinkhole deep open middle illinois footba...\n",
       "6740    milan want lukaku loan next season chelsea mom...\n",
       "Name: text, Length: 1855, dtype: object"
      ]
     },
     "execution_count": 1062,
     "metadata": {},
     "output_type": "execute_result"
    }
   ],
   "source": [
    "soccer"
   ]
  },
  {
   "cell_type": "code",
   "execution_count": 1064,
   "id": "9b507d9d-bda6-451f-8f5b-c38b4e4a0556",
   "metadata": {
    "tags": []
   },
   "outputs": [
    {
     "data": {
      "text/plain": [
       "2864    throwback federer perfected art grass court te...\n",
       "2865    ash barty confirms definitely return play tenn...\n",
       "2866    ostapenko gave ticket match ukrainian junior p...\n",
       "2867          andy murray hugh dennis play line mock week\n",
       "2868    funny advertisement currently vacation sardini...\n",
       "                              ...                        \n",
       "7713              atp stuttgart qf musetti def bublik ret\n",
       "7714              seen enough nole winning wimbledon http\n",
       "7715    presenting karue sell lesser known brother tom...\n",
       "7716    stuttgart qf berrettini duckworth berrettini g...\n",
       "7717                               feeling dream come iga\n",
       "Name: text, Length: 1425, dtype: object"
      ]
     },
     "execution_count": 1064,
     "metadata": {},
     "output_type": "execute_result"
    }
   ],
   "source": [
    "tennis"
   ]
  },
  {
   "cell_type": "code",
   "execution_count": 1066,
   "id": "f3a9977e-dea0-48ce-97f2-97a802812d9d",
   "metadata": {
    "tags": []
   },
   "outputs": [],
   "source": [
    "# Combine all posts into a single string\n",
    "all_text_soc = ' '.join(soccer)\n",
    "all_text_ten = ' '.join(tennis)"
   ]
  },
  {
   "cell_type": "code",
   "execution_count": 1068,
   "id": "4e6de2dd-acf9-40f7-acac-fbdcb9841c9f",
   "metadata": {
    "tags": []
   },
   "outputs": [],
   "source": [
    "# Tokenize the combined text\n",
    "tokens_soc = nltk.word_tokenize(all_text_soc.lower())\n",
    "tokens_ten = nltk.word_tokenize(all_text_ten.lower())"
   ]
  },
  {
   "cell_type": "code",
   "execution_count": 1072,
   "id": "0ea8b991-9ee1-4070-b03b-68584df44383",
   "metadata": {
    "tags": []
   },
   "outputs": [
    {
     "data": {
      "text/plain": [
       "['alex', 'berenguer', 'sign', 'new']"
      ]
     },
     "execution_count": 1072,
     "metadata": {},
     "output_type": "execute_result"
    }
   ],
   "source": [
    "# Confirm that this has been done\n",
    "tokens_soc[:4]"
   ]
  },
  {
   "cell_type": "code",
   "execution_count": 1074,
   "id": "10865d0d-08df-4451-9a06-57e5706e3443",
   "metadata": {
    "tags": []
   },
   "outputs": [],
   "source": [
    "# Remove stopwords and perform lemmatization\n",
    "tokens_soc = [lemmatizer.lemmatize(word) for word in tokens_soc if word.isalpha() and word not in stop_words]\n",
    "tokens_ten = [lemmatizer.lemmatize(word) for word in tokens_ten if word.isalpha() and word not in stop_words]"
   ]
  },
  {
   "cell_type": "code",
   "execution_count": 1088,
   "id": "480bf5b7-5d7d-4b80-8d41-2abd54f86f34",
   "metadata": {
    "tags": []
   },
   "outputs": [],
   "source": [
    "# Count the frequency of each word\n",
    "word_freq_soc = Counter(tokens_soc)"
   ]
  },
  {
   "cell_type": "code",
   "execution_count": 1110,
   "id": "5c9abafb-239e-41cc-a6ac-9da26b77b7ae",
   "metadata": {
    "tags": []
   },
   "outputs": [
    {
     "data": {
      "text/plain": [
       "[('goal', 444),\n",
       " ('shot', 432),\n",
       " ('substitution', 425),\n",
       " ('right', 358),\n",
       " ('match', 348),\n",
       " ('club', 333),\n",
       " ('player', 302),\n",
       " ('box', 302),\n",
       " ('league', 286),\n",
       " ('replaces', 279)]"
      ]
     },
     "execution_count": 1110,
     "metadata": {},
     "output_type": "execute_result"
    }
   ],
   "source": [
    "# Get the most common words\n",
    "common_words_soc = word_freq_soc.most_common(10)\n",
    "common_words_soc"
   ]
  },
  {
   "cell_type": "code",
   "execution_count": 1112,
   "id": "86b42f54-aa69-48d0-ac24-188fecf0534a",
   "metadata": {
    "tags": []
   },
   "outputs": [
    {
     "data": {
      "text/html": [
       "<div>\n",
       "<style scoped>\n",
       "    .dataframe tbody tr th:only-of-type {\n",
       "        vertical-align: middle;\n",
       "    }\n",
       "\n",
       "    .dataframe tbody tr th {\n",
       "        vertical-align: top;\n",
       "    }\n",
       "\n",
       "    .dataframe thead th {\n",
       "        text-align: right;\n",
       "    }\n",
       "</style>\n",
       "<table border=\"1\" class=\"dataframe\">\n",
       "  <thead>\n",
       "    <tr style=\"text-align: right;\">\n",
       "      <th></th>\n",
       "      <th>Word</th>\n",
       "      <th>Frequency</th>\n",
       "    </tr>\n",
       "  </thead>\n",
       "  <tbody>\n",
       "    <tr>\n",
       "      <th>0</th>\n",
       "      <td>goal</td>\n",
       "      <td>444</td>\n",
       "    </tr>\n",
       "    <tr>\n",
       "      <th>1</th>\n",
       "      <td>shot</td>\n",
       "      <td>432</td>\n",
       "    </tr>\n",
       "    <tr>\n",
       "      <th>2</th>\n",
       "      <td>substitution</td>\n",
       "      <td>425</td>\n",
       "    </tr>\n",
       "    <tr>\n",
       "      <th>3</th>\n",
       "      <td>right</td>\n",
       "      <td>358</td>\n",
       "    </tr>\n",
       "    <tr>\n",
       "      <th>4</th>\n",
       "      <td>match</td>\n",
       "      <td>348</td>\n",
       "    </tr>\n",
       "    <tr>\n",
       "      <th>5</th>\n",
       "      <td>club</td>\n",
       "      <td>333</td>\n",
       "    </tr>\n",
       "    <tr>\n",
       "      <th>6</th>\n",
       "      <td>player</td>\n",
       "      <td>302</td>\n",
       "    </tr>\n",
       "    <tr>\n",
       "      <th>7</th>\n",
       "      <td>box</td>\n",
       "      <td>302</td>\n",
       "    </tr>\n",
       "    <tr>\n",
       "      <th>8</th>\n",
       "      <td>league</td>\n",
       "      <td>286</td>\n",
       "    </tr>\n",
       "    <tr>\n",
       "      <th>9</th>\n",
       "      <td>replaces</td>\n",
       "      <td>279</td>\n",
       "    </tr>\n",
       "  </tbody>\n",
       "</table>\n",
       "</div>"
      ],
      "text/plain": [
       "           Word  Frequency\n",
       "0          goal        444\n",
       "1          shot        432\n",
       "2  substitution        425\n",
       "3         right        358\n",
       "4         match        348\n",
       "5          club        333\n",
       "6        player        302\n",
       "7           box        302\n",
       "8        league        286\n",
       "9      replaces        279"
      ]
     },
     "execution_count": 1112,
     "metadata": {},
     "output_type": "execute_result"
    }
   ],
   "source": [
    "# Convert to DataFrame\n",
    "df_common_words_soc = pd.DataFrame(common_words_soc, columns=['Word', 'Frequency'])\n",
    "df_common_words_soc"
   ]
  },
  {
   "cell_type": "code",
   "execution_count": 1114,
   "id": "92d996bd-bccb-4399-b5cb-107d3537ace1",
   "metadata": {
    "tags": []
   },
   "outputs": [],
   "source": [
    "# Separate words and their frequencies for plotting\n",
    "words, frequencies = zip(*common_words_soc)"
   ]
  },
  {
   "cell_type": "code",
   "execution_count": 1116,
   "id": "0a25abcf-c04d-4f6a-a148-8ec9d05b5afb",
   "metadata": {
    "tags": []
   },
   "outputs": [
    {
     "data": {
      "image/png": "[encoded data removed]",
      "text/plain": [
       "<Figure size 1000x600 with 1 Axes>"
      ]
     },
     "metadata": {},
     "output_type": "display_data"
    }
   ],
   "source": [
    "# Plot the most common words\n",
    "plt.figure(figsize=(10, 6))\n",
    "plt.xticks(rotation = 45)\n",
    "sns.barplot(data = df_common_words_soc, x = 'Word', y = 'Frequency')\n",
    "plt.title('Top 15 Most Common Words in Soccer Subreddit')\n",
    "plt.xlabel('Frequency')\n",
    "plt.ylabel('Words')\n",
    "plt.savefig('top_15_most_common_words_soccer_subreddit.png', bbox_inches='tight')"
   ]
  },
  {
   "cell_type": "code",
   "execution_count": 1118,
   "id": "693961ba-66af-4695-b3c1-a6c9ec94414b",
   "metadata": {
    "tags": []
   },
   "outputs": [],
   "source": [
    "# Count the frequency of each word\n",
    "word_freq_ten = Counter(tokens_ten)"
   ]
  },
  {
   "cell_type": "code",
   "execution_count": 1122,
   "id": "9d9562c1-caa7-4e97-bd28-ffc3adc0a803",
   "metadata": {
    "tags": []
   },
   "outputs": [
    {
     "data": {
      "text/plain": [
       "[('http', 576),\n",
       " ('wimbledon', 571),\n",
       " ('match', 443),\n",
       " ('def', 349),\n",
       " ('play', 319),\n",
       " ('v', 296),\n",
       " ('player', 292),\n",
       " ('win', 289),\n",
       " ('tennis', 235),\n",
       " ('think', 212)]"
      ]
     },
     "execution_count": 1122,
     "metadata": {},
     "output_type": "execute_result"
    }
   ],
   "source": [
    "# Get the most common words\n",
    "common_words_ten = word_freq_ten.most_common(10)\n",
    "common_words_ten"
   ]
  },
  {
   "cell_type": "code",
   "execution_count": 1124,
   "id": "03881396-db02-4b84-8080-717cebdcbf07",
   "metadata": {
    "tags": []
   },
   "outputs": [
    {
     "data": {
      "text/html": [
       "<div>\n",
       "<style scoped>\n",
       "    .dataframe tbody tr th:only-of-type {\n",
       "        vertical-align: middle;\n",
       "    }\n",
       "\n",
       "    .dataframe tbody tr th {\n",
       "        vertical-align: top;\n",
       "    }\n",
       "\n",
       "    .dataframe thead th {\n",
       "        text-align: right;\n",
       "    }\n",
       "</style>\n",
       "<table border=\"1\" class=\"dataframe\">\n",
       "  <thead>\n",
       "    <tr style=\"text-align: right;\">\n",
       "      <th></th>\n",
       "      <th>Word</th>\n",
       "      <th>Frequency</th>\n",
       "    </tr>\n",
       "  </thead>\n",
       "  <tbody>\n",
       "    <tr>\n",
       "      <th>0</th>\n",
       "      <td>http</td>\n",
       "      <td>576</td>\n",
       "    </tr>\n",
       "    <tr>\n",
       "      <th>1</th>\n",
       "      <td>wimbledon</td>\n",
       "      <td>571</td>\n",
       "    </tr>\n",
       "    <tr>\n",
       "      <th>2</th>\n",
       "      <td>match</td>\n",
       "      <td>443</td>\n",
       "    </tr>\n",
       "    <tr>\n",
       "      <th>3</th>\n",
       "      <td>def</td>\n",
       "      <td>349</td>\n",
       "    </tr>\n",
       "    <tr>\n",
       "      <th>4</th>\n",
       "      <td>play</td>\n",
       "      <td>319</td>\n",
       "    </tr>\n",
       "    <tr>\n",
       "      <th>5</th>\n",
       "      <td>v</td>\n",
       "      <td>296</td>\n",
       "    </tr>\n",
       "    <tr>\n",
       "      <th>6</th>\n",
       "      <td>player</td>\n",
       "      <td>292</td>\n",
       "    </tr>\n",
       "    <tr>\n",
       "      <th>7</th>\n",
       "      <td>win</td>\n",
       "      <td>289</td>\n",
       "    </tr>\n",
       "    <tr>\n",
       "      <th>8</th>\n",
       "      <td>tennis</td>\n",
       "      <td>235</td>\n",
       "    </tr>\n",
       "    <tr>\n",
       "      <th>9</th>\n",
       "      <td>think</td>\n",
       "      <td>212</td>\n",
       "    </tr>\n",
       "  </tbody>\n",
       "</table>\n",
       "</div>"
      ],
      "text/plain": [
       "        Word  Frequency\n",
       "0       http        576\n",
       "1  wimbledon        571\n",
       "2      match        443\n",
       "3        def        349\n",
       "4       play        319\n",
       "5          v        296\n",
       "6     player        292\n",
       "7        win        289\n",
       "8     tennis        235\n",
       "9      think        212"
      ]
     },
     "execution_count": 1124,
     "metadata": {},
     "output_type": "execute_result"
    }
   ],
   "source": [
    "# Convert to DataFrame\n",
    "df_common_words_ten = pd.DataFrame(common_words_ten, columns=['Word', 'Frequency'])\n",
    "df_common_words_ten"
   ]
  },
  {
   "cell_type": "code",
   "execution_count": 1126,
   "id": "ab34b3c3-02e2-40d8-b97d-6da87f1a9643",
   "metadata": {
    "tags": []
   },
   "outputs": [
    {
     "data": {
      "image/png": "[encoded data removed]",
      "text/plain": [
       "<Figure size 1000x600 with 1 Axes>"
      ]
     },
     "metadata": {},
     "output_type": "display_data"
    }
   ],
   "source": [
    "# Plot the most common words\n",
    "plt.figure(figsize=(10, 6))\n",
    "plt.xticks(rotation = 45)\n",
    "sns.barplot(data = df_common_words_ten, x = 'Word', y = 'Frequency')\n",
    "plt.title('Top 15 Most Common Words in Tennis Subreddit')\n",
    "plt.xlabel('Frequency')\n",
    "plt.ylabel('Words')\n",
    "plt.savefig('top_15_most_common_words_tennis_subreddit.png', bbox_inches='tight')"
   ]
  },
  {
   "cell_type": "code",
   "execution_count": 1142,
   "id": "f773766b-594c-4e2e-8d3b-7cb35b5a8b0b",
   "metadata": {
    "tags": []
   },
   "outputs": [
    {
     "data": {
      "text/html": [
       "<div>\n",
       "<style scoped>\n",
       "    .dataframe tbody tr th:only-of-type {\n",
       "        vertical-align: middle;\n",
       "    }\n",
       "\n",
       "    .dataframe tbody tr th {\n",
       "        vertical-align: top;\n",
       "    }\n",
       "\n",
       "    .dataframe thead th {\n",
       "        text-align: right;\n",
       "    }\n",
       "</style>\n",
       "<table border=\"1\" class=\"dataframe\">\n",
       "  <thead>\n",
       "    <tr style=\"text-align: right;\">\n",
       "      <th></th>\n",
       "      <th>soccer</th>\n",
       "      <th>tennis</th>\n",
       "    </tr>\n",
       "  </thead>\n",
       "  <tbody>\n",
       "    <tr>\n",
       "      <th>0</th>\n",
       "      <td>goal</td>\n",
       "      <td>http</td>\n",
       "    </tr>\n",
       "    <tr>\n",
       "      <th>1</th>\n",
       "      <td>shot</td>\n",
       "      <td>wimbledon</td>\n",
       "    </tr>\n",
       "    <tr>\n",
       "      <th>2</th>\n",
       "      <td>substitution</td>\n",
       "      <td>match</td>\n",
       "    </tr>\n",
       "    <tr>\n",
       "      <th>3</th>\n",
       "      <td>right</td>\n",
       "      <td>def</td>\n",
       "    </tr>\n",
       "    <tr>\n",
       "      <th>4</th>\n",
       "      <td>match</td>\n",
       "      <td>play</td>\n",
       "    </tr>\n",
       "    <tr>\n",
       "      <th>5</th>\n",
       "      <td>club</td>\n",
       "      <td>v</td>\n",
       "    </tr>\n",
       "    <tr>\n",
       "      <th>6</th>\n",
       "      <td>player</td>\n",
       "      <td>player</td>\n",
       "    </tr>\n",
       "    <tr>\n",
       "      <th>7</th>\n",
       "      <td>box</td>\n",
       "      <td>win</td>\n",
       "    </tr>\n",
       "    <tr>\n",
       "      <th>8</th>\n",
       "      <td>league</td>\n",
       "      <td>tennis</td>\n",
       "    </tr>\n",
       "    <tr>\n",
       "      <th>9</th>\n",
       "      <td>replaces</td>\n",
       "      <td>think</td>\n",
       "    </tr>\n",
       "  </tbody>\n",
       "</table>\n",
       "</div>"
      ],
      "text/plain": [
       "         soccer     tennis\n",
       "0          goal       http\n",
       "1          shot  wimbledon\n",
       "2  substitution      match\n",
       "3         right        def\n",
       "4         match       play\n",
       "5          club          v\n",
       "6        player     player\n",
       "7           box        win\n",
       "8        league     tennis\n",
       "9      replaces      think"
      ]
     },
     "execution_count": 1142,
     "metadata": {},
     "output_type": "execute_result"
    }
   ],
   "source": [
    "#Side by side comparison of the top 10 most common words\n",
    "shw_comp = pd.DataFrame({\n",
    "    'soccer': df_common_words_soc['Word'],\n",
    "    'tennis': df_common_words_ten['Word']\n",
    "})\n",
    "shw_comp"
   ]
  },
  {
   "cell_type": "markdown",
   "id": "b8a0a13e-4bf4-4fe6-b758-517aae6e8cf6",
   "metadata": {},
   "source": [
    "## Topic modeling"
   ]
  },
  {
   "cell_type": "code",
   "execution_count": 1256,
   "id": "be92e5d9-b395-4845-b55f-7456d86ecde3",
   "metadata": {
    "tags": []
   },
   "outputs": [
    {
     "name": "stdout",
     "output_type": "stream",
     "text": [
      "Topic 1:\n",
      "['substitution', 'goal', 'replaces', 'uruguay', 'shot', 'brazil', 'card', 'sub', 'panama', 'colombia']\n",
      "Topic 2:\n",
      "['league', 'year', 'player', 'club', 'def', 'team', 'time', 'england', 'right', 'season']\n",
      "Topic 3:\n",
      "['http', 'score', 'draw', 'spain', 'play', 'venezuela', 'france', 'order', 'canada', 'portugal']\n",
      "Topic 4:\n",
      "['match', 'wimbledon', 'win', 'player', 'think', 'set', 'good', 'play', 'round', 'like']\n",
      "Topic 5:\n",
      "['sign', 'deal', 'united', 'romano', 'penalty', 'contract', 'portugal', 'slovenia', 'club', 'new']\n",
      "topic             0         1         2         3         4\n",
      "subreddit                                                  \n",
      "0          0.131536  0.354178  0.091105  0.081402  0.341779\n",
      "1          0.073684  0.193684  0.083509  0.596491  0.052632\n"
     ]
    },
    {
     "name": "stderr",
     "output_type": "stream",
     "text": [
      "/var/folders/xl/y_djts9n7858xsff1znygpsm0000gn/T/ipykernel_79579/2976236209.py:19: SettingWithCopyWarning: \n",
      "A value is trying to be set on a copy of a slice from a DataFrame.\n",
      "Try using .loc[row_indexer,col_indexer] = value instead\n",
      "\n",
      "See the caveats in the documentation: https://pandas.pydata.org/pandas-docs/stable/user_guide/indexing.html#returning-a-view-versus-a-copy\n",
      "  post['topic'] = lda.transform(X_counts).argmax(axis=1)\n"
     ]
    },
    {
     "data": {
      "image/png": "[encoded data removed]",
      "text/plain": [
       "<Figure size 1000x600 with 1 Axes>"
      ]
     },
     "metadata": {},
     "output_type": "display_data"
    }
   ],
   "source": [
    "# Initialize CountVectorizer\n",
    "count_vectorizer = CountVectorizer(max_df=0.95, min_df=2, stop_words='english')\n",
    "\n",
    "# Fit-transform the text data\n",
    "X_counts = count_vectorizer.fit_transform(post['text'])\n",
    "\n",
    "# Perform LDA\n",
    "num_topics = 5  # Adjust as needed\n",
    "lda = LatentDirichletAllocation(n_components=num_topics, random_state=42)\n",
    "lda.fit(X_counts)\n",
    "\n",
    "# Display the top words for each topic\n",
    "words = count_vectorizer.get_feature_names_out()\n",
    "for idx, topic in enumerate(lda.components_):\n",
    "    print(f\"Topic {idx+1}:\")\n",
    "    print([words[i] for i in topic.argsort()[:-11:-1]])\n",
    "\n",
    "# Assign topics to each post\n",
    "post['topic'] = lda.transform(X_counts).argmax(axis=1)\n",
    "\n",
    "# Analyze topic distribution per subreddit\n",
    "topic_distribution = post.groupby('subreddit')['topic'].value_counts(normalize=True).unstack().fillna(0)\n",
    "\n",
    "# Display the topic distribution\n",
    "print(topic_distribution)\n",
    "\n",
    "# Visualize the topic distribution\n",
    "topic_distribution.plot(kind='bar', stacked=True, figsize=(10, 6))\n",
    "plt.title('Topic Distribution by Subreddit')\n",
    "plt.xlabel('Subreddit')\n",
    "plt.ylabel('Proportion of Topics')\n",
    "plt.savefig('Most Common Topics.png', bbox_inches='tight')"
   ]
  },
  {
   "cell_type": "code",
   "execution_count": 1112,
   "id": "17e549f0-623d-4829-aed5-92b4e9e4d20d",
   "metadata": {
    "tags": []
   },
   "outputs": [
    {
     "data": {
      "text/html": [
       "<div>\n",
       "<style scoped>\n",
       "    .dataframe tbody tr th:only-of-type {\n",
       "        vertical-align: middle;\n",
       "    }\n",
       "\n",
       "    .dataframe tbody tr th {\n",
       "        vertical-align: top;\n",
       "    }\n",
       "\n",
       "    .dataframe thead th {\n",
       "        text-align: right;\n",
       "    }\n",
       "</style>\n",
       "<table border=\"1\" class=\"dataframe\">\n",
       "  <thead>\n",
       "    <tr style=\"text-align: right;\">\n",
       "      <th></th>\n",
       "      <th>Word</th>\n",
       "      <th>Frequency</th>\n",
       "    </tr>\n",
       "  </thead>\n",
       "  <tbody>\n",
       "    <tr>\n",
       "      <th>0</th>\n",
       "      <td>goal</td>\n",
       "      <td>444</td>\n",
       "    </tr>\n",
       "    <tr>\n",
       "      <th>1</th>\n",
       "      <td>shot</td>\n",
       "      <td>432</td>\n",
       "    </tr>\n",
       "    <tr>\n",
       "      <th>2</th>\n",
       "      <td>substitution</td>\n",
       "      <td>425</td>\n",
       "    </tr>\n",
       "    <tr>\n",
       "      <th>3</th>\n",
       "      <td>right</td>\n",
       "      <td>358</td>\n",
       "    </tr>\n",
       "    <tr>\n",
       "      <th>4</th>\n",
       "      <td>match</td>\n",
       "      <td>348</td>\n",
       "    </tr>\n",
       "    <tr>\n",
       "      <th>5</th>\n",
       "      <td>club</td>\n",
       "      <td>333</td>\n",
       "    </tr>\n",
       "    <tr>\n",
       "      <th>6</th>\n",
       "      <td>player</td>\n",
       "      <td>302</td>\n",
       "    </tr>\n",
       "    <tr>\n",
       "      <th>7</th>\n",
       "      <td>box</td>\n",
       "      <td>302</td>\n",
       "    </tr>\n",
       "    <tr>\n",
       "      <th>8</th>\n",
       "      <td>league</td>\n",
       "      <td>286</td>\n",
       "    </tr>\n",
       "    <tr>\n",
       "      <th>9</th>\n",
       "      <td>replaces</td>\n",
       "      <td>279</td>\n",
       "    </tr>\n",
       "  </tbody>\n",
       "</table>\n",
       "</div>"
      ],
      "text/plain": [
       "           Word  Frequency\n",
       "0          goal        444\n",
       "1          shot        432\n",
       "2  substitution        425\n",
       "3         right        358\n",
       "4         match        348\n",
       "5          club        333\n",
       "6        player        302\n",
       "7           box        302\n",
       "8        league        286\n",
       "9      replaces        279"
      ]
     },
     "execution_count": 1112,
     "metadata": {},
     "output_type": "execute_result"
    }
   ],
   "source": [
    "# Convert to DataFrame\n",
    "df_common_words_soc = pd.DataFrame(common_words_soc, columns=['Word', 'Frequency'])\n",
    "df_common_words_soc"
   ]
  },
  {
   "cell_type": "markdown",
   "id": "11c6500e-d954-46e4-8985-32f6e194b81c",
   "metadata": {},
   "source": [
    "## Sentiment Analysis"
   ]
  },
  {
   "cell_type": "code",
   "execution_count": 1158,
   "id": "12bef3ea-b05d-47a2-86f6-7c419d658a1d",
   "metadata": {
    "tags": []
   },
   "outputs": [
    {
     "name": "stdout",
     "output_type": "stream",
     "text": [
      "subreddit\n",
      "0    0.070494\n",
      "1    0.076476\n",
      "Name: sentiment, dtype: float64\n"
     ]
    },
    {
     "name": "stderr",
     "output_type": "stream",
     "text": [
      "/var/folders/xl/y_djts9n7858xsff1znygpsm0000gn/T/ipykernel_79579/3424143246.py:8: SettingWithCopyWarning: \n",
      "A value is trying to be set on a copy of a slice from a DataFrame.\n",
      "Try using .loc[row_indexer,col_indexer] = value instead\n",
      "\n",
      "See the caveats in the documentation: https://pandas.pydata.org/pandas-docs/stable/user_guide/indexing.html#returning-a-view-versus-a-copy\n",
      "  post['sentiment'] = post['text'].apply(get_sentiment)\n"
     ]
    },
    {
     "data": {
      "image/png": "[encoded data removed]",
      "text/plain": [
       "<Figure size 1000x600 with 1 Axes>"
      ]
     },
     "metadata": {},
     "output_type": "display_data"
    }
   ],
   "source": [
    "from textblob import TextBlob\n",
    "\n",
    "# Function to calculate sentiment polarity\n",
    "def get_sentiment(text):\n",
    "    return TextBlob(text).sentiment.polarity\n",
    "\n",
    "# Apply sentiment analysis to each post\n",
    "post['sentiment'] = post['text'].apply(get_sentiment)\n",
    "\n",
    "# Analyze average sentiment per subreddit\n",
    "avg_sentiment = post.groupby('subreddit')['sentiment'].mean()\n",
    "\n",
    "# Display the average sentiment\n",
    "print(avg_sentiment)\n",
    "\n",
    "# Visualize the sentiment distribution\n",
    "plt.figure(figsize=(10, 6))\n",
    "sns.boxplot(x='subreddit', y='sentiment', data=post)\n",
    "plt.title('Sentiment Distribution by Subreddit')\n",
    "plt.xlabel('Subreddit')\n",
    "plt.ylabel('Sentiment Polarity')\n",
    "plt.savefig('Sentimental Analysis.png', bbox_inches='tight')"
   ]
  },
  {
   "cell_type": "code",
   "execution_count": null,
   "id": "be861524-c786-419a-a6e0-b8380ed7681c",
   "metadata": {},
   "outputs": [],
   "source": [
    "\n",
    "plt.figure(figsize=(12, 6))\n",
    "sns.histplot(subreddit1_sentiments, color='blue', kde=True, label=subreddit1)\n",
    "sns.histplot(subreddit2_sentiments, color='red', kde=True, label=subreddit2)\n",
    "plt.title('Sentiment Distribution by Subreddit')\n",
    "plt.xlabel('Sentiment Polarity')\n",
    "plt.ylabel('Frequency')\n",
    "plt.legend()\n",
    "plt.show()"
   ]
  },
  {
   "cell_type": "code",
   "execution_count": 1170,
   "id": "2668635c-50ac-49d2-b50e-c647bcbca33c",
   "metadata": {
    "tags": []
   },
   "outputs": [
    {
     "data": {
      "text/html": [
       "<div>\n",
       "<style scoped>\n",
       "    .dataframe tbody tr th:only-of-type {\n",
       "        vertical-align: middle;\n",
       "    }\n",
       "\n",
       "    .dataframe tbody tr th {\n",
       "        vertical-align: top;\n",
       "    }\n",
       "\n",
       "    .dataframe thead th {\n",
       "        text-align: right;\n",
       "    }\n",
       "</style>\n",
       "<table border=\"1\" class=\"dataframe\">\n",
       "  <thead>\n",
       "    <tr style=\"text-align: right;\">\n",
       "      <th></th>\n",
       "      <th>text</th>\n",
       "      <th>subreddit</th>\n",
       "      <th>cluster</th>\n",
       "      <th>topic</th>\n",
       "      <th>sentiment</th>\n",
       "    </tr>\n",
       "  </thead>\n",
       "  <tbody>\n",
       "    <tr>\n",
       "      <th>0</th>\n",
       "      <td>alex berenguer sign new deal athletic club val...</td>\n",
       "      <td>0</td>\n",
       "      <td>0</td>\n",
       "      <td>4</td>\n",
       "      <td>0.136364</td>\n",
       "    </tr>\n",
       "    <tr>\n",
       "      <th>1</th>\n",
       "      <td>germany hosted world cup european championship...</td>\n",
       "      <td>0</td>\n",
       "      <td>4</td>\n",
       "      <td>1</td>\n",
       "      <td>0.056250</td>\n",
       "    </tr>\n",
       "    <tr>\n",
       "      <th>2</th>\n",
       "      <td>toni kroos retiring football take break least ...</td>\n",
       "      <td>0</td>\n",
       "      <td>0</td>\n",
       "      <td>1</td>\n",
       "      <td>-0.275000</td>\n",
       "    </tr>\n",
       "    <tr>\n",
       "      <th>3</th>\n",
       "      <td>matteo moretto negotiation milan tottenham ent...</td>\n",
       "      <td>0</td>\n",
       "      <td>0</td>\n",
       "      <td>1</td>\n",
       "      <td>-0.083333</td>\n",
       "    </tr>\n",
       "    <tr>\n",
       "      <th>4</th>\n",
       "      <td>miguel almiron talk representative newcastle f...</td>\n",
       "      <td>0</td>\n",
       "      <td>0</td>\n",
       "      <td>1</td>\n",
       "      <td>0.000000</td>\n",
       "    </tr>\n",
       "  </tbody>\n",
       "</table>\n",
       "</div>"
      ],
      "text/plain": [
       "                                                text  subreddit  cluster  \\\n",
       "0  alex berenguer sign new deal athletic club val...          0        0   \n",
       "1  germany hosted world cup european championship...          0        4   \n",
       "2  toni kroos retiring football take break least ...          0        0   \n",
       "3  matteo moretto negotiation milan tottenham ent...          0        0   \n",
       "4  miguel almiron talk representative newcastle f...          0        0   \n",
       "\n",
       "   topic  sentiment  \n",
       "0      4   0.136364  \n",
       "1      1   0.056250  \n",
       "2      1  -0.275000  \n",
       "3      1  -0.083333  \n",
       "4      1   0.000000  "
      ]
     },
     "execution_count": 1170,
     "metadata": {},
     "output_type": "execute_result"
    }
   ],
   "source": [
    "post.head()"
   ]
  },
  {
   "cell_type": "code",
   "execution_count": 1174,
   "id": "37951996-bb12-42f2-9a74-3d419428bdb9",
   "metadata": {
    "tags": []
   },
   "outputs": [
    {
     "data": {
      "image/png": "[encoded data removed]",
      "text/plain": [
       "<Figure size 800x600 with 1 Axes>"
      ]
     },
     "metadata": {},
     "output_type": "display_data"
    }
   ],
   "source": [
    "plt.figure(figsize=(8, 6))\n",
    "post[post['subreddit'] == 0]['sentiment'].hist(color='red', label='soccer', alpha=0.5, bins = 50)\n",
    "post[post['subreddit'] == 1]['sentiment'].hist(color='navy', label='tennis', alpha=0.5, bins = 50)\n",
    "plt.legend()\n",
    "plt.savefig('Sentimental Analysis 2.png', bbox_inches='tight')"
   ]
  },
  {
   "cell_type": "code",
   "execution_count": 1176,
   "id": "a9b986de-d032-4f37-a83f-7854a0374453",
   "metadata": {
    "tags": []
   },
   "outputs": [],
   "source": [
    "X = post['text']\n",
    "y = post['subreddit']"
   ]
  },
  {
   "cell_type": "code",
   "execution_count": 1178,
   "id": "933fd8dc-6fc0-4d14-b1f4-3bcdeda4c205",
   "metadata": {
    "tags": []
   },
   "outputs": [],
   "source": [
    "# Split data\n",
    "X_train, X_test, y_train, y_test = train_test_split(X, y, test_size=0.2, random_state=42)"
   ]
  },
  {
   "cell_type": "code",
   "execution_count": 1180,
   "id": "8344646c-b9a9-42c5-911b-82804cbf2c85",
   "metadata": {
    "tags": []
   },
   "outputs": [
    {
     "data": {
      "text/plain": [
       "(2624,)"
      ]
     },
     "execution_count": 1180,
     "metadata": {},
     "output_type": "execute_result"
    }
   ],
   "source": [
    "X_train.shape"
   ]
  },
  {
   "cell_type": "code",
   "execution_count": 1182,
   "id": "c8b8662f-6953-4317-8769-23f90db4af5f",
   "metadata": {
    "tags": []
   },
   "outputs": [],
   "source": [
    "# Vectorize text data\n",
    "vectorizer = TfidfVectorizer(max_features=5000)\n",
    "X_train_vect = vectorizer.fit_transform(X_train)\n",
    "X_test_vect = vectorizer.transform(X_test)"
   ]
  },
  {
   "cell_type": "code",
   "execution_count": 1232,
   "id": "a6b5849f-f676-49d0-8596-b321c2c76ab7",
   "metadata": {
    "tags": []
   },
   "outputs": [
    {
     "data": {
      "text/plain": [
       "0.961890243902439"
      ]
     },
     "execution_count": 1232,
     "metadata": {},
     "output_type": "execute_result"
    }
   ],
   "source": [
    "# Logistic Regression model\n",
    "lr_model = LogisticRegression()\n",
    "lr_model.fit(X_train_vect, y_train)\n",
    "lr_pred = lr_model.predict(X_test_vect)\n",
    "lr_test_score =  lr_model.score(X_test_vect, y_test)\n",
    "lr_test_score"
   ]
  },
  {
   "cell_type": "code",
   "execution_count": 1186,
   "id": "5730c34a-1563-4355-a6ab-2fae072244e1",
   "metadata": {
    "tags": []
   },
   "outputs": [
    {
     "data": {
      "text/plain": [
       "array([[382,   3],\n",
       "       [ 22, 249]])"
      ]
     },
     "execution_count": 1186,
     "metadata": {},
     "output_type": "execute_result"
    }
   ],
   "source": [
    "lr_c_mat = confusion_matrix(y_test, lr_pred)\n",
    "lr_c_mat"
   ]
  },
  {
   "cell_type": "code",
   "execution_count": 1234,
   "id": "926d2a24-582f-491c-a073-1133beb112f2",
   "metadata": {
    "tags": []
   },
   "outputs": [
    {
     "data": {
      "text/plain": [
       "0.9527439024390244"
      ]
     },
     "execution_count": 1234,
     "metadata": {},
     "output_type": "execute_result"
    }
   ],
   "source": [
    "# Random Forest model\n",
    "rf_model = RandomForestClassifier(n_estimators=100)\n",
    "rf_model.fit(X_train_vect, y_train)\n",
    "rf_pred = rf_model.predict(X_test_vect)\n",
    "rf_test_score =  rf_model.score(X_test_vect, y_test)\n",
    "rf_test_score"
   ]
  },
  {
   "cell_type": "code",
   "execution_count": 1200,
   "id": "5eed4fa0-d834-4232-8bd7-d471a5c7c9d1",
   "metadata": {
    "tags": []
   },
   "outputs": [
    {
     "data": {
      "text/plain": [
       "array([[359,  26],\n",
       "       [  3, 268]])"
      ]
     },
     "execution_count": 1200,
     "metadata": {},
     "output_type": "execute_result"
    }
   ],
   "source": [
    "rf_c_mat = confusion_matrix(y_test, rf_pred)\n",
    "rf_c_mat"
   ]
  },
  {
   "cell_type": "code",
   "execution_count": 1236,
   "id": "e47ccfd5-b91a-44ed-b1f0-9946a52e3c7f",
   "metadata": {
    "tags": []
   },
   "outputs": [
    {
     "name": "stdout",
     "output_type": "stream",
     "text": [
      "Best parameters: {'C': 1.5555777777777777}\n",
      "Best score: 0.9676015994183933\n",
      "Test score: 0.9740853658536586\n"
     ]
    }
   ],
   "source": [
    "# Instantiate SVM\n",
    "svc = SVC()\n",
    "\n",
    "# Define the parameter grid\n",
    "pgrid = {\"C\": np.linspace(0.0001, 2, 10)}\n",
    "\n",
    "# Instantiate GridSearchCV\n",
    "gcv = GridSearchCV(svc, pgrid, cv=5, n_jobs=4)\n",
    "\n",
    "# Fit GridSearchCV on training data\n",
    "gcv.fit(X_train_vect, y_train)\n",
    "\n",
    "# Best parameters and best score\n",
    "print(f\"Best parameters: {gcv.best_params_}\")\n",
    "print(f\"Best score: {gcv.best_score_}\")\n",
    "\n",
    "svc_pred = gcv.predict(X_test_vect)\n",
    "\n",
    "# Evaluate on test data\n",
    "svc_test_score = gcv.score(X_test_vect, y_test)\n",
    "print(f\"Test score: {svc_test_score}\")"
   ]
  },
  {
   "cell_type": "code",
   "execution_count": 1208,
   "id": "2800bf4e-1f9c-46d2-865c-77f86eaac75a",
   "metadata": {
    "tags": []
   },
   "outputs": [],
   "source": [
    "# Evaluation function\n",
    "def evaluate_model(y_test, y_pred):\n",
    "    print(classification_report(y_test, y_pred))\n",
    "    print('Confusion Matrix:\\n', confusion_matrix(y_test, y_pred))\n",
    "    print('Accuracy:', accuracy_score(y_test, y_pred))"
   ]
  },
  {
   "cell_type": "code",
   "execution_count": 1210,
   "id": "958ed5ea-7f24-42cd-b1fc-08f5bc850d2b",
   "metadata": {
    "tags": []
   },
   "outputs": [
    {
     "ename": "NameError",
     "evalue": "name 'y_pred' is not defined",
     "output_type": "error",
     "traceback": [
      "\u001b[0;31m---------------------------------------------------------------------------\u001b[0m",
      "\u001b[0;31mNameError\u001b[0m                                 Traceback (most recent call last)",
      "Cell \u001b[0;32mIn[1210], line 1\u001b[0m\n\u001b[0;32m----> 1\u001b[0m lr_c_mat \u001b[38;5;241m=\u001b[39m confusion_matrix(y_test, y_pred)\n",
      "\u001b[0;31mNameError\u001b[0m: name 'y_pred' is not defined"
     ]
    }
   ],
   "source": [
    "lr_c_mat = confusion_matrix(y_test, y_pred)"
   ]
  },
  {
   "cell_type": "code",
   "execution_count": 1212,
   "id": "7e064d4f-3b06-40fe-8f94-a9da7bb8042e",
   "metadata": {
    "tags": []
   },
   "outputs": [
    {
     "name": "stdout",
     "output_type": "stream",
     "text": [
      "Logistic Regression Model Evaluation:\n",
      "              precision    recall  f1-score   support\n",
      "\n",
      "           0       0.95      0.99      0.97       385\n",
      "           1       0.99      0.92      0.95       271\n",
      "\n",
      "    accuracy                           0.96       656\n",
      "   macro avg       0.97      0.96      0.96       656\n",
      "weighted avg       0.96      0.96      0.96       656\n",
      "\n",
      "Confusion Matrix:\n",
      " [[382   3]\n",
      " [ 22 249]]\n",
      "Accuracy: 0.961890243902439\n"
     ]
    }
   ],
   "source": [
    "# Evaluate Logistic Regression model\n",
    "print(\"Logistic Regression Model Evaluation:\")\n",
    "evaluate_model(y_test, lr_pred)"
   ]
  },
  {
   "cell_type": "code",
   "execution_count": 1214,
   "id": "216068db-2eab-44f5-bc84-7e5f19cdd485",
   "metadata": {
    "tags": []
   },
   "outputs": [
    {
     "name": "stdout",
     "output_type": "stream",
     "text": [
      "Random Forest Model Evaluation:\n",
      "              precision    recall  f1-score   support\n",
      "\n",
      "           0       0.99      0.93      0.96       385\n",
      "           1       0.91      0.99      0.95       271\n",
      "\n",
      "    accuracy                           0.96       656\n",
      "   macro avg       0.95      0.96      0.95       656\n",
      "weighted avg       0.96      0.96      0.96       656\n",
      "\n",
      "Confusion Matrix:\n",
      " [[359  26]\n",
      " [  3 268]]\n",
      "Accuracy: 0.9557926829268293\n"
     ]
    }
   ],
   "source": [
    "# Evaluate Random Forest model\n",
    "print(\"Random Forest Model Evaluation:\")\n",
    "evaluate_model(y_test, rf_pred)"
   ]
  },
  {
   "cell_type": "code",
   "execution_count": 1218,
   "id": "ab9443ac-4f09-4814-be67-2565d5b8dde9",
   "metadata": {
    "tags": []
   },
   "outputs": [
    {
     "name": "stdout",
     "output_type": "stream",
     "text": [
      "SVM Model Evaluation:\n",
      "              precision    recall  f1-score   support\n",
      "\n",
      "           0       0.97      0.99      0.98       385\n",
      "           1       0.98      0.95      0.97       271\n",
      "\n",
      "    accuracy                           0.97       656\n",
      "   macro avg       0.98      0.97      0.97       656\n",
      "weighted avg       0.97      0.97      0.97       656\n",
      "\n",
      "Confusion Matrix:\n",
      " [[381   4]\n",
      " [ 13 258]]\n",
      "Accuracy: 0.9740853658536586\n"
     ]
    }
   ],
   "source": [
    "# Evaluate Random Forest model\n",
    "print(\"SVM Model Evaluation:\")\n",
    "evaluate_model(y_test, svc_pred)"
   ]
  },
  {
   "cell_type": "code",
   "execution_count": 1238,
   "id": "0de1482c-d59d-498a-bb47-122831391cd2",
   "metadata": {
    "tags": []
   },
   "outputs": [
    {
     "data": {
      "text/plain": [
       "0.9740853658536586"
      ]
     },
     "execution_count": 1238,
     "metadata": {},
     "output_type": "execute_result"
    }
   ],
   "source": [
    "best_mod = max([lr_test_score, rf_test_score, svc_test_score])\n",
    "best_mod"
   ]
  },
  {
   "cell_type": "code",
   "execution_count": 1252,
   "id": "6ccc66fd-ee5a-4504-b4b3-056dbcb714d5",
   "metadata": {
    "tags": []
   },
   "outputs": [
    {
     "name": "stdout",
     "output_type": "stream",
     "text": [
      "Summary:\n",
      "Logistic Regression Model Accuracy: 0.961890243902439\n",
      "Random Forest Model Accuracy: 0.9527439024390244\n",
      "SVM Model Accuracy: 0.9740853658536586\n",
      "SVM performs better than other models for this dataset.\n"
     ]
    }
   ],
   "source": [
    "# Summarize findings\n",
    "print(\"Summary:\")\n",
    "print(\"Logistic Regression Model Accuracy:\", accuracy_score(y_test, lr_pred))\n",
    "print(\"Random Forest Model Accuracy:\", accuracy_score(y_test, rf_pred))\n",
    "print(\"SVM Model Accuracy:\", accuracy_score(y_test, svc_pred))\n",
    "\n",
    "best_mod = max([lr_test_score, rf_test_score, svc_test_score])\n",
    "\n",
    "# Recommendations\n",
    "if best_mod == lr_test_score:\n",
    "    print(\"Logistic Regression performs better than other models for this dataset.\")\n",
    "if best_mod == rf_test_score:\n",
    "    print(\"Random Forest performs better than other models for this dataset.\")\n",
    "if best_mod == svc_test_score:\n",
    "    print(\"SVM performs better than other models for this dataset.\")"
   ]
  },
  {
   "cell_type": "code",
   "execution_count": 1263,
   "id": "1bb3f51c-01c2-416e-b2ce-3abd940f8f3b",
   "metadata": {
    "tags": []
   },
   "outputs": [
    {
     "name": "stdout",
     "output_type": "stream",
     "text": [
      "Logistic Regression: Mean Accuracy = 0.9451, Standard Deviation = 0.0150\n",
      "Random Forest: Mean Accuracy = 0.9390, Standard Deviation = 0.0147\n",
      "SVM: Mean Accuracy = 0.9657, Standard Deviation = 0.0075\n"
     ]
    }
   ],
   "source": [
    "from sklearn.model_selection import cross_val_score\n",
    "\n",
    "# Logistic Regression\n",
    "lr_scores = cross_val_score(lr_model, X_train_vect, y_train, cv=5, scoring='accuracy')\n",
    "\n",
    "# Random Forest\n",
    "rf_scores = cross_val_score(rf_model, X_train_vect, y_train, cv=5, scoring='accuracy')\n",
    "\n",
    "# SVM\n",
    "svc_scores = cross_val_score(svc, X_train_vect, y_train, cv=5, scoring='accuracy')\n",
    "\n",
    "# Logistic Regression\n",
    "lr_mean_accuracy = np.mean(lr_scores)\n",
    "lr_std_dev = np.std(lr_scores)\n",
    "\n",
    "# Random Forest\n",
    "rf_mean_accuracy = np.mean(rf_scores)\n",
    "rf_std_dev = np.std(rf_scores)\n",
    "\n",
    "# SVM\n",
    "svc_mean_accuracy = np.mean(svc_scores)\n",
    "svc_std_dev = np.std(svc_scores)\n",
    "\n",
    "# Print results\n",
    "print(f\"Logistic Regression: Mean Accuracy = {lr_mean_accuracy:.4f}, Standard Deviation = {lr_std_dev:.4f}\")\n",
    "print(f\"Random Forest: Mean Accuracy = {rf_mean_accuracy:.4f}, Standard Deviation = {rf_std_dev:.4f}\")\n",
    "print(f\"SVM: Mean Accuracy = {svc_mean_accuracy:.4f}, Standard Deviation = {svc_std_dev:.4f}\")\n"
   ]
  },
  {
   "cell_type": "code",
   "execution_count": null,
   "id": "b9bbb61c-4129-4ede-b621-8b18f3e773e1",
   "metadata": {},
   "outputs": [],
   "source": [
    "Logistic Regression: Mean Accuracy = 0.9451, Standard Deviation = 0.0150\n",
    "Random Forest: Mean Accuracy = 0.9390, Standard Deviation = 0.0147\n",
    "SVM: Mean Accuracy = 0.9657, Standard Deviation = 0.0075"
   ]
  }
 ],
 "metadata": {
  "kernelspec": {
   "display_name": "Python 3 (ipykernel)",
   "language": "python",
   "name": "python3"
  },
  "language_info": {
   "codemirror_mode": {
    "name": "ipython",
    "version": 3
   },
   "file_extension": ".py",
   "mimetype": "text/x-python",
   "name": "python",
   "nbconvert_exporter": "python",
   "pygments_lexer": "ipython3",
   "version": "3.11.7"
  }
 },
 "nbformat": 4,
 "nbformat_minor": 5
}
